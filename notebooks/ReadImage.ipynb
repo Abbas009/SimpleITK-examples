{
 "cells": [
  {
   "cell_type": "code",
   "execution_count": 1,
   "metadata": {},
   "outputs": [],
   "source": [
    "import SimpleITK as sitk\n",
    "import matplotlib.pyplot as plt\n",
    "%matplotlib inline"
   ]
  },
  {
   "cell_type": "markdown",
   "metadata": {},
   "source": [
    "The SimpleITK function ReadImage() can read single file images. Usually SimpleITK can correctly determine the file type from the extension and file itself."
   ]
  },
  {
   "cell_type": "code",
   "execution_count": 2,
   "metadata": {},
   "outputs": [],
   "source": [
    "image = sitk.ReadImage('../data/dot.dcm')"
   ]
  },
  {
   "cell_type": "markdown",
   "metadata": {},
   "source": [
    "The type of `image` is an instance of the SimpleITK image. We can request several of its properties. Try tab completion or `help(image)` for more examples."
   ]
  },
  {
   "cell_type": "code",
   "execution_count": 5,
   "metadata": {},
   "outputs": [
    {
     "data": {
      "text/plain": [
       "(21, 21, 1)"
      ]
     },
     "execution_count": 5,
     "metadata": {},
     "output_type": "execute_result"
    }
   ],
   "source": [
    "image.GetSize()"
   ]
  },
  {
   "cell_type": "markdown",
   "metadata": {},
   "source": [
    "SimpleITK is a 'simple' procedural wrapper around ITK which can be called from Python and other scripting languages. SimpleITK provides a convenient interface to numpy arrays."
   ]
  },
  {
   "cell_type": "code",
   "execution_count": 8,
   "metadata": {},
   "outputs": [
    {
     "name": "stdout",
     "output_type": "stream",
     "text": [
      "`array` has type: <type 'numpy.ndarray'>\n",
      "(1, 21, 21, 3)\n"
     ]
    }
   ],
   "source": [
    "array = sitk.GetArrayFromImage(image)\n",
    "print('`array` has type: {}'.format(type(array)))"
   ]
  },
  {
   "cell_type": "markdown",
   "metadata": {},
   "source": [
    "Let us check out the array size."
   ]
  },
  {
   "cell_type": "code",
   "execution_count": 9,
   "metadata": {},
   "outputs": [
    {
     "data": {
      "text/plain": [
       "(1, 21, 21, 3)"
      ]
     },
     "execution_count": 9,
     "metadata": {},
     "output_type": "execute_result"
    }
   ],
   "source": [
    "array.shape"
   ]
  },
  {
   "cell_type": "markdown",
   "metadata": {},
   "source": [
    "The first axis is the number of slices, in this case 1. Many medical image formats are 3D and would have the number of slices on the first axis. The last axis is the number of channels. The image `dot.dcm` is an artificial example of an RGB image saved in the DICOM standard."
   ]
  },
  {
   "cell_type": "code",
   "execution_count": 14,
   "metadata": {},
   "outputs": [
    {
     "data": {
      "text/plain": [
       "array([[255, 255, 255, 255, 255, 255, 255, 255, 255, 255],\n",
       "       [255, 255, 255, 255, 255, 255, 255, 255, 255,   0],\n",
       "       [255, 255, 255, 255, 255, 255,   0,   0,   0,   0],\n",
       "       [255, 255, 255, 255, 255,   0,   0,   0,   0,   0],\n",
       "       [255, 255, 255, 255,   0,   0,   0,   0,   0,   0],\n",
       "       [255, 255, 255,   0,   0,   0,   0,   0,   0,   0],\n",
       "       [255, 255,   0,   0,   0,   0,   0,   0,   0,   0],\n",
       "       [255, 255,   0,   0,   0,   0,   0,   0,   0,   0],\n",
       "       [255, 255,   0,   0,   0,   0,   0,   0,   0,   0],\n",
       "       [255,   0,   0,   0,   0,   0,   0,   0,   0,   0]], dtype=uint8)"
      ]
     },
     "execution_count": 14,
     "metadata": {},
     "output_type": "execute_result"
    }
   ],
   "source": [
    "array[0, 0:10, 0:10, 1]"
   ]
  },
  {
   "cell_type": "markdown",
   "metadata": {},
   "source": [
    "As a `numpy` array we can easily plot the image."
   ]
  },
  {
   "cell_type": "code",
   "execution_count": 18,
   "metadata": {},
   "outputs": [
    {
     "data": {
      "image/png": "[encoded data removed]",
      "text/plain": [
       "<matplotlib.figure.Figure at 0x7ff2a50f1c10>"
      ]
     },
     "metadata": {},
     "output_type": "display_data"
    }
   ],
   "source": [
    "fig = plt.figure(figsize=(6, 6))\n",
    "plt.imshow(array[0]);"
   ]
  },
  {
   "cell_type": "code",
   "execution_count": null,
   "metadata": {
    "collapsed": true
   },
   "outputs": [],
   "source": []
  }
 ],
 "metadata": {
  "kernelspec": {
   "display_name": "Python 2",
   "language": "python",
   "name": "python2"
  },
  "language_info": {
   "codemirror_mode": {
    "name": "ipython",
    "version": 2
   },
   "file_extension": ".py",
   "mimetype": "text/x-python",
   "name": "python",
   "nbconvert_exporter": "python",
   "pygments_lexer": "ipython2",
   "version": "2.7.12+"
  }
 },
 "nbformat": 4,
 "nbformat_minor": 2
}
